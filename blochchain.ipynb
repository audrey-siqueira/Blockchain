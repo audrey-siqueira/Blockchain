{
 "cells": [
  {
   "cell_type": "code",
   "execution_count": 1,
   "metadata": {},
   "outputs": [],
   "source": [
    "# Module 1 - Create a Blockchain\n",
    "\n",
    "# To be intalled:\n",
    "# Flask==0.12.2 : pip install Flask==0.12.2\n",
    "# Postman HTTP Client: https://www.getpostman.com/"
   ]
  },
  {
   "cell_type": "code",
   "execution_count": 2,
   "metadata": {},
   "outputs": [],
   "source": [
    "# Importing the libraries\n",
    "import datetime\n",
    "import hashlib\n",
    "import json\n",
    "from flask import Flask , jsonify"
   ]
  },
  {
   "cell_type": "code",
   "execution_count": 3,
   "metadata": {},
   "outputs": [],
   "source": [
    "# Part-1 Building a blockchain\n",
    "\n",
    "class Blockchain:\n",
    "\n",
    "    def __init__(self):\n",
    "        self.chain = []\n",
    "        self.create_block( proof = 1 , previous_hash = '0')\n",
    "\n",
    "    def create_block(self, proof, previous_hash):\n",
    "\n",
    "        block = { 'index'         : len(self.chain) + 1 ,\n",
    "                  'timestamp'     : str(datetime.datetime.now()),\n",
    "                  'proof'         : proof , \n",
    "                  'previous_hash' : previous_hash \n",
    "                }\n",
    "\n",
    "        self.chain.append(block)\n",
    "\n",
    "        return (block)\n",
    "\n",
    "    def get_previous_block(self):\n",
    "        return (self.chain[-1])\n",
    "\n",
    "    def proof_of_work(self, previous_proof):\n",
    "\n",
    "        new_proof = 1\n",
    "        check_proof = False\n",
    "\n",
    "        while check_proof is False:\n",
    "            hash_operation = hashlib.sha256(str(new_proof**2 - previous_proof**2).encode()).hexdigest()\n",
    "            if hash_operation[:4] == '0000' :\n",
    "                check_proof = True\n",
    "            else:\n",
    "                new_proof +=1\n",
    "\n",
    "        return (new_proof)\n",
    "\n",
    "    def hash(self, block):\n",
    "        encoded_block = json.dumps(block, sort_keys = True).encode()\n",
    "        return (hashlib.sha256(encoded_block).hexdigest())\n",
    "\n",
    "\n",
    "    def is_chain_valid(self, chain):\n",
    "        \n",
    "        previous_block = chain[0]\n",
    "        block_index = 1\n",
    "       \n",
    "        while block_index < len(chain):\n",
    "\n",
    "            block = chain[block_index]\n",
    "            if block['previous_hash'] != self.hash(previous_block):\n",
    "                return False\n",
    "            \n",
    "            previous_proof = previous_block['proof']\n",
    "            proof = block['proof']\n",
    "            hash_operation = hashlib.sha256(str(proof**2 - previous_proof**2).encode()).hexdigest()\n",
    "            \n",
    "            if hash_operation[:4] != '0000' :\n",
    "                return False\n",
    "\n",
    "            previous_block = block\n",
    "            block_index +=1\n",
    "\n",
    "        return True           \n"
   ]
  },
  {
   "cell_type": "code",
   "execution_count": 4,
   "metadata": {},
   "outputs": [],
   "source": [
    "# Part 2 - Mining our Blockchain\n",
    "\n",
    "# Creating a Web App\n",
    "app = Flask(__name__)\n",
    "#app.config['JSONIFY_PRETTYPRINT_REGULAR'] = False\n",
    "\n",
    "# Creating a Blockchain \n",
    "blockchain = Blockchain()\n",
    "\n",
    "# Mining a new block\n",
    "@app.route('/mine_block', methods = ['GET'] )\n",
    "def mine_block():\n",
    "\n",
    "    previous_block = blockchain.get_previous_block()\n",
    "    previous_proof = previous_block['proof']\n",
    "    previous_hash = blockchain.hash(previous_block)\n",
    "\n",
    "    proof = blockchain.proof_of_work(previous_proof)\n",
    "    \n",
    "    block = blockchain.create_block(proof, previous_hash)\n",
    "\n",
    "    response= { 'message'       : 'Congratulations, you just mined a block!' ,\n",
    "                'index'         : block['index'] ,\n",
    "                'timestamp'     : block['timestamp'] ,\n",
    "                'proof'         : block['proof'] ,\n",
    "                'previous_hash' : block['previous_hash'] \n",
    "               }\n",
    "\n",
    "    return jsonify(response) , 200\n",
    "\n",
    "\n",
    "\n",
    "# Getting the full Blockchain\n",
    "@app.route('/get_chain' , methods = ['GET'])\n",
    "def get_chain():\n",
    "\n",
    "    response = { 'chain'  : blockchain.chain ,\n",
    "                 'lenght' : len(blockchain.chain ) \n",
    "               } \n",
    "\n",
    "    return jsonify(response) , 200\n",
    "\n",
    "\n",
    "\n",
    "# Checking if the Blockchain is valid\n",
    "@app.route('/is_valid' , methods = ['GET'])\n",
    "def is_valid():\n",
    "\n",
    "    is_valid = blockchain.is_chain_valid(blockchain.chain)\n",
    "    if is_valid:\n",
    "         response = { 'message' : 'All good. The Blockchain is valid' } \n",
    "    else:\n",
    "         response = { 'message' : 'Houston we have a problem. The Blockchain is not valid' } \n",
    "\n",
    "    return jsonify(response) , 200\n"
   ]
  },
  {
   "cell_type": "code",
   "execution_count": 5,
   "metadata": {},
   "outputs": [
    {
     "name": "stdout",
     "output_type": "stream",
     "text": [
      " * Serving Flask app '__main__' (lazy loading)\n",
      " * Environment: production\n",
      "\u001b[31m   WARNING: This is a development server. Do not use it in a production deployment.\u001b[0m\n",
      "\u001b[2m   Use a production WSGI server instead.\u001b[0m\n",
      " * Debug mode: off\n"
     ]
    },
    {
     "name": "stderr",
     "output_type": "stream",
     "text": [
      "\u001b[31m\u001b[1mWARNING: This is a development server. Do not use it in a production deployment. Use a production WSGI server instead.\u001b[0m\n",
      " * Running on all addresses (0.0.0.0)\n",
      " * Running on http://127.0.0.1:5000\n",
      " * Running on http://192.168.100.6:5000\n",
      "\u001b[33mPress CTRL+C to quit\u001b[0m\n",
      "127.0.0.1 - - [10/Aug/2022 18:23:27] \"GET /get_chain HTTP/1.1\" 200 -\n",
      "127.0.0.1 - - [10/Aug/2022 18:23:39] \"GET /mine_block HTTP/1.1\" 200 -\n",
      "127.0.0.1 - - [10/Aug/2022 18:23:40] \"GET /mine_block HTTP/1.1\" 200 -\n",
      "127.0.0.1 - - [10/Aug/2022 18:23:41] \"GET /mine_block HTTP/1.1\" 200 -\n",
      "127.0.0.1 - - [10/Aug/2022 18:23:41] \"GET /mine_block HTTP/1.1\" 200 -\n",
      "127.0.0.1 - - [10/Aug/2022 18:23:51] \"GET /get_chain HTTP/1.1\" 200 -\n",
      "127.0.0.1 - - [10/Aug/2022 18:24:32] \"GET /is_valid HTTP/1.1\" 200 -\n"
     ]
    },
    {
     "ename": "",
     "evalue": "",
     "output_type": "error",
     "traceback": [
      "The Kernel crashed while executing code in the the current cell or a previous cell. Please review the code in the cell(s) to identify a possible cause of the failure. Click <a href='https://aka.ms/vscodeJupyterKernelCrash'>here</a> for more info. View Jupyter <a href='command:jupyter.viewOutput'>log</a> for further details."
     ]
    }
   ],
   "source": [
    "# Running the app\n",
    "app.run(host = '0.0.0.0' , port = 5000)\n",
    "\n",
    "# http://127.0.0.1:5000/get_chain\n",
    "# http://127.0.0.1:5000/mine_block"
   ]
  }
 ],
 "metadata": {
  "kernelspec": {
   "display_name": "Python 3.8.13 ('blockchain')",
   "language": "python",
   "name": "python3"
  },
  "language_info": {
   "codemirror_mode": {
    "name": "ipython",
    "version": 3
   },
   "file_extension": ".py",
   "mimetype": "text/x-python",
   "name": "python",
   "nbconvert_exporter": "python",
   "pygments_lexer": "ipython3",
   "version": "3.8.13"
  },
  "orig_nbformat": 4,
  "vscode": {
   "interpreter": {
    "hash": "a059f381cd152662a98a1f04cf9838f1e86c86c0e2af41fc27faed7e1ff804b8"
   }
  }
 },
 "nbformat": 4,
 "nbformat_minor": 2
}
